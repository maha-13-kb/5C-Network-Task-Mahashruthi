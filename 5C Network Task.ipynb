{
 "cells": [
  {
   "cell_type": "markdown",
   "id": "146b8f19",
   "metadata": {},
   "source": [
    "# All things Sapota 🫒"
   ]
  },
  {
   "cell_type": "markdown",
   "id": "b846f9b5",
   "metadata": {},
   "source": [
    "Mahashruthi K B - 1932022"
   ]
  },
  {
   "cell_type": "code",
   "execution_count": 3,
   "id": "886e6218",
   "metadata": {},
   "outputs": [],
   "source": [
    "# import necessary libraries\n",
    "import pandas as pd\n",
    "import matplotlib.pyplot as plt\n"
   ]
  },
  {
   "cell_type": "code",
   "execution_count": 4,
   "id": "e1b44d9a",
   "metadata": {},
   "outputs": [],
   "source": [
    "# Load the sales data from sales_data_1.csv\n",
    "sales_data_1 = pd.read_csv(\"sales_data_1.csv\")"
   ]
  },
  {
   "cell_type": "code",
   "execution_count": 5,
   "id": "14942898",
   "metadata": {},
   "outputs": [
    {
     "data": {
      "text/html": [
       "<div>\n",
       "<style scoped>\n",
       "    .dataframe tbody tr th:only-of-type {\n",
       "        vertical-align: middle;\n",
       "    }\n",
       "\n",
       "    .dataframe tbody tr th {\n",
       "        vertical-align: top;\n",
       "    }\n",
       "\n",
       "    .dataframe thead th {\n",
       "        text-align: right;\n",
       "    }\n",
       "</style>\n",
       "<table border=\"1\" class=\"dataframe\">\n",
       "  <thead>\n",
       "    <tr style=\"text-align: right;\">\n",
       "      <th></th>\n",
       "      <th>Date</th>\n",
       "      <th>Firm bought from</th>\n",
       "      <th>Buying price</th>\n",
       "      <th>Customer</th>\n",
       "      <th>Selling price</th>\n",
       "      <th>Quantity sold</th>\n",
       "    </tr>\n",
       "  </thead>\n",
       "  <tbody>\n",
       "    <tr>\n",
       "      <th>0</th>\n",
       "      <td>21/08/23</td>\n",
       "      <td>Vendor6</td>\n",
       "      <td>72.11</td>\n",
       "      <td>Customer7</td>\n",
       "      <td>91.58</td>\n",
       "      <td>44</td>\n",
       "    </tr>\n",
       "    <tr>\n",
       "      <th>1</th>\n",
       "      <td>21/08/23</td>\n",
       "      <td>Vendor4</td>\n",
       "      <td>75.08</td>\n",
       "      <td>Customer7</td>\n",
       "      <td>83.71</td>\n",
       "      <td>17</td>\n",
       "    </tr>\n",
       "    <tr>\n",
       "      <th>2</th>\n",
       "      <td>21/08/23</td>\n",
       "      <td>Vendor7</td>\n",
       "      <td>83.93</td>\n",
       "      <td>Customer2</td>\n",
       "      <td>103.76</td>\n",
       "      <td>15</td>\n",
       "    </tr>\n",
       "  </tbody>\n",
       "</table>\n",
       "</div>"
      ],
      "text/plain": [
       "       Date Firm bought from  Buying price   Customer  Selling price  \\\n",
       "0  21/08/23          Vendor6         72.11  Customer7          91.58   \n",
       "1  21/08/23          Vendor4         75.08  Customer7          83.71   \n",
       "2  21/08/23          Vendor7         83.93  Customer2         103.76   \n",
       "\n",
       "   Quantity sold  \n",
       "0             44  \n",
       "1             17  \n",
       "2             15  "
      ]
     },
     "execution_count": 5,
     "metadata": {},
     "output_type": "execute_result"
    }
   ],
   "source": [
    "sales_data_1.head(3)"
   ]
  },
  {
   "cell_type": "code",
   "execution_count": 6,
   "id": "04e84ea5",
   "metadata": {},
   "outputs": [
    {
     "name": "stdout",
     "output_type": "stream",
     "text": [
      "<class 'pandas.core.frame.DataFrame'>\n",
      "RangeIndex: 70 entries, 0 to 69\n",
      "Data columns (total 6 columns):\n",
      " #   Column            Non-Null Count  Dtype  \n",
      "---  ------            --------------  -----  \n",
      " 0   Date              70 non-null     object \n",
      " 1   Firm bought from  70 non-null     object \n",
      " 2   Buying price      70 non-null     float64\n",
      " 3   Customer          70 non-null     object \n",
      " 4   Selling price     70 non-null     float64\n",
      " 5   Quantity sold     70 non-null     int64  \n",
      "dtypes: float64(2), int64(1), object(3)\n",
      "memory usage: 3.4+ KB\n"
     ]
    }
   ],
   "source": [
    "sales_data_1.info()"
   ]
  },
  {
   "cell_type": "markdown",
   "id": "b83ad9ff",
   "metadata": {},
   "source": [
    "### 1. What is their overall gross margin for their business?\n"
   ]
  },
  {
   "cell_type": "code",
   "execution_count": 7,
   "id": "a0e83826",
   "metadata": {},
   "outputs": [
    {
     "name": "stdout",
     "output_type": "stream",
     "text": [
      "Overall gross margin for the business: 31482.75\n"
     ]
    }
   ],
   "source": [
    "# Calculate the gross margin for each row\n",
    "sales_data_1[\"Gross Margin\"] = (sales_data_1[\"Selling price\"] - sales_data_1[\"Buying price\"]) * sales_data_1[\"Quantity sold\"]\n",
    "\n",
    "# Calculate the overall gross margin for the business\n",
    "total_gross_margin = sales_data_1[\"Gross Margin\"].sum()\n",
    "print(f\"Overall gross margin for the business: {total_gross_margin:.2f}\")\n"
   ]
  },
  {
   "cell_type": "code",
   "execution_count": 8,
   "id": "40d45371",
   "metadata": {},
   "outputs": [
    {
     "data": {
      "text/html": [
       "<div>\n",
       "<style scoped>\n",
       "    .dataframe tbody tr th:only-of-type {\n",
       "        vertical-align: middle;\n",
       "    }\n",
       "\n",
       "    .dataframe tbody tr th {\n",
       "        vertical-align: top;\n",
       "    }\n",
       "\n",
       "    .dataframe thead th {\n",
       "        text-align: right;\n",
       "    }\n",
       "</style>\n",
       "<table border=\"1\" class=\"dataframe\">\n",
       "  <thead>\n",
       "    <tr style=\"text-align: right;\">\n",
       "      <th></th>\n",
       "      <th>Date</th>\n",
       "      <th>Firm bought from</th>\n",
       "      <th>Buying price</th>\n",
       "      <th>Customer</th>\n",
       "      <th>Selling price</th>\n",
       "      <th>Quantity sold</th>\n",
       "      <th>Gross Margin</th>\n",
       "    </tr>\n",
       "  </thead>\n",
       "  <tbody>\n",
       "    <tr>\n",
       "      <th>0</th>\n",
       "      <td>21/08/23</td>\n",
       "      <td>Vendor6</td>\n",
       "      <td>72.11</td>\n",
       "      <td>Customer7</td>\n",
       "      <td>91.58</td>\n",
       "      <td>44</td>\n",
       "      <td>856.68</td>\n",
       "    </tr>\n",
       "    <tr>\n",
       "      <th>1</th>\n",
       "      <td>21/08/23</td>\n",
       "      <td>Vendor4</td>\n",
       "      <td>75.08</td>\n",
       "      <td>Customer7</td>\n",
       "      <td>83.71</td>\n",
       "      <td>17</td>\n",
       "      <td>146.71</td>\n",
       "    </tr>\n",
       "    <tr>\n",
       "      <th>2</th>\n",
       "      <td>21/08/23</td>\n",
       "      <td>Vendor7</td>\n",
       "      <td>83.93</td>\n",
       "      <td>Customer2</td>\n",
       "      <td>103.76</td>\n",
       "      <td>15</td>\n",
       "      <td>297.45</td>\n",
       "    </tr>\n",
       "  </tbody>\n",
       "</table>\n",
       "</div>"
      ],
      "text/plain": [
       "       Date Firm bought from  Buying price   Customer  Selling price  \\\n",
       "0  21/08/23          Vendor6         72.11  Customer7          91.58   \n",
       "1  21/08/23          Vendor4         75.08  Customer7          83.71   \n",
       "2  21/08/23          Vendor7         83.93  Customer2         103.76   \n",
       "\n",
       "   Quantity sold  Gross Margin  \n",
       "0             44        856.68  \n",
       "1             17        146.71  \n",
       "2             15        297.45  "
      ]
     },
     "execution_count": 8,
     "metadata": {},
     "output_type": "execute_result"
    }
   ],
   "source": [
    "sales_data_1.head(3)"
   ]
  },
  {
   "cell_type": "markdown",
   "id": "4c643777",
   "metadata": {},
   "source": [
    "### 2. Which vendor is the most profitable?"
   ]
  },
  {
   "cell_type": "code",
   "execution_count": 9,
   "id": "e9b3f948",
   "metadata": {},
   "outputs": [
    {
     "name": "stdout",
     "output_type": "stream",
     "text": [
      "Profit for each vendor: Firm bought from\n",
      "Vendor1     1555.59\n",
      "Vendor10    3040.62\n",
      "Vendor2     1296.98\n",
      "Vendor3     6370.67\n",
      "Vendor4     6903.31\n",
      "Vendor5     1616.14\n",
      "Vendor6     1217.95\n",
      "Vendor7     4961.05\n",
      "Vendor8      253.74\n",
      "Vendor9     4266.70\n",
      "Name: Gross Margin, dtype: float64\n",
      "Most profitable vendor: Vendor4\n",
      "Profit: 6903.31\n"
     ]
    }
   ],
   "source": [
    "vendor_profit = sales_data_1.groupby(\"Firm bought from\")[\"Gross Margin\"].sum()\n",
    "most_profitable_vendor = vendor_profit.idxmax()\n",
    "print(\"Profit for each vendor:\",vendor_profit)\n",
    "print(f\"Most profitable vendor: {most_profitable_vendor}\")\n",
    "print(f\"Profit: {vendor_profit.max():.2f}\")"
   ]
  },
  {
   "cell_type": "markdown",
   "id": "dbe59015",
   "metadata": {},
   "source": [
    "### 3. Which customer is the least profitable?"
   ]
  },
  {
   "cell_type": "code",
   "execution_count": 10,
   "id": "965744b7",
   "metadata": {},
   "outputs": [
    {
     "name": "stdout",
     "output_type": "stream",
     "text": [
      "Profit for each vendor: Customer\n",
      "Customer1     5310.57\n",
      "Customer10    3692.44\n",
      "Customer2     4215.67\n",
      "Customer3     1055.05\n",
      "Customer4     3337.37\n",
      "Customer5     1315.28\n",
      "Customer6     1930.76\n",
      "Customer7     2197.62\n",
      "Customer8     6498.91\n",
      "Customer9     1929.08\n",
      "Name: Gross Margin, dtype: float64\n",
      "Least profitable customer: Customer3\n",
      "Profit: 1055.05\n"
     ]
    }
   ],
   "source": [
    "customer_profit = sales_data_1.groupby(\"Customer\")[\"Gross Margin\"].sum()\n",
    "least_profitable_customer = customer_profit.idxmin()\n",
    "print(\"Profit for each vendor:\",customer_profit)\n",
    "print(f\"Least profitable customer: {least_profitable_customer}\")\n",
    "print(f\"Profit: {customer_profit.min():.2f}\")"
   ]
  },
  {
   "cell_type": "markdown",
   "id": "c141e25e",
   "metadata": {},
   "source": [
    "### 4. Which day of the week was most profitable for them?"
   ]
  },
  {
   "cell_type": "code",
   "execution_count": 11,
   "id": "49ab4313",
   "metadata": {},
   "outputs": [],
   "source": [
    "# Convert the 'Date' column to a datetime object\n",
    "sales_data_1[\"Date\"] = pd.to_datetime(sales_data_1[\"Date\"])"
   ]
  },
  {
   "cell_type": "code",
   "execution_count": 12,
   "id": "0636a885",
   "metadata": {},
   "outputs": [
    {
     "name": "stdout",
     "output_type": "stream",
     "text": [
      "Most profitable day of the week: Monday\n",
      "Profit: 6847.34\n"
     ]
    }
   ],
   "source": [
    "sales_data_1[\"Day of Week\"] = sales_data_1[\"Date\"].dt.day_name()\n",
    "day_profit = sales_data_1.groupby(\"Day of Week\")[\"Gross Margin\"].sum()\n",
    "most_profitable_day = day_profit.idxmax()\n",
    "print(f\"Most profitable day of the week: {most_profitable_day}\")\n",
    "print(f\"Profit: {day_profit.max():.2f}\")"
   ]
  },
  {
   "cell_type": "markdown",
   "id": "99c48b01",
   "metadata": {},
   "source": [
    "### 5. Which day of the week was the least profitable for them?\n"
   ]
  },
  {
   "cell_type": "code",
   "execution_count": 13,
   "id": "fb69a4ca",
   "metadata": {},
   "outputs": [
    {
     "name": "stdout",
     "output_type": "stream",
     "text": [
      "Least profitable day of the week: Sunday\n",
      "Profit: 3086.46\n"
     ]
    }
   ],
   "source": [
    "least_profitable_day = day_profit.idxmin()\n",
    "print(f\"Least profitable day of the week: {least_profitable_day}\")\n",
    "print(f\"Profit: {day_profit.min():.2f}\")"
   ]
  },
  {
   "cell_type": "code",
   "execution_count": 14,
   "id": "c229f209",
   "metadata": {},
   "outputs": [
    {
     "data": {
      "image/png": "[encoded data removed]",
      "text/plain": [
       "<Figure size 432x288 with 1 Axes>"
      ]
     },
     "metadata": {
      "needs_background": "light"
     },
     "output_type": "display_data"
    }
   ],
   "source": [
    "# Sort the days in descending order based on profit\n",
    "day_profit = day_profit.sort_values(ascending=False)\n",
    "\n",
    "# Create a bar graph to represent the profit for each day of the week\n",
    "day_profit.plot(kind=\"bar\")\n",
    "plt.xlabel(\"Day of the Week\")\n",
    "plt.ylabel(\"Profit\")\n",
    "plt.title(\"Profit for Each Day of the Week\")\n",
    "plt.show()"
   ]
  },
  {
   "cell_type": "code",
   "execution_count": 27,
   "id": "70673c81",
   "metadata": {},
   "outputs": [],
   "source": [
    "# Load the sales data from sales_data_2.csv\n",
    "sales_data_2 = pd.read_csv(\"sales_data_2.csv\")"
   ]
  },
  {
   "cell_type": "code",
   "execution_count": 16,
   "id": "f48052e8",
   "metadata": {},
   "outputs": [],
   "source": [
    "# Convert the 'Date' column to a datetime object\n",
    "sales_data_2[\"Date\"] = pd.to_datetime(sales_data_2[\"Date\"])"
   ]
  },
  {
   "cell_type": "code",
   "execution_count": 36,
   "id": "0eb5ce72",
   "metadata": {},
   "outputs": [
    {
     "data": {
      "text/html": [
       "<div>\n",
       "<style scoped>\n",
       "    .dataframe tbody tr th:only-of-type {\n",
       "        vertical-align: middle;\n",
       "    }\n",
       "\n",
       "    .dataframe tbody tr th {\n",
       "        vertical-align: top;\n",
       "    }\n",
       "\n",
       "    .dataframe thead th {\n",
       "        text-align: right;\n",
       "    }\n",
       "</style>\n",
       "<table border=\"1\" class=\"dataframe\">\n",
       "  <thead>\n",
       "    <tr style=\"text-align: right;\">\n",
       "      <th></th>\n",
       "      <th>Firm bought from</th>\n",
       "      <th>Buying price</th>\n",
       "      <th>Quantity bought</th>\n",
       "      <th>Customer</th>\n",
       "      <th>Selling price</th>\n",
       "      <th>Quantity sold</th>\n",
       "      <th>Gross Profit</th>\n",
       "    </tr>\n",
       "    <tr>\n",
       "      <th>Date</th>\n",
       "      <th></th>\n",
       "      <th></th>\n",
       "      <th></th>\n",
       "      <th></th>\n",
       "      <th></th>\n",
       "      <th></th>\n",
       "      <th></th>\n",
       "    </tr>\n",
       "  </thead>\n",
       "  <tbody>\n",
       "    <tr>\n",
       "      <th>2023-08-21</th>\n",
       "      <td>Vendor6</td>\n",
       "      <td>72.11</td>\n",
       "      <td>60</td>\n",
       "      <td>Customer7</td>\n",
       "      <td>91.58</td>\n",
       "      <td>44</td>\n",
       "      <td>856.68</td>\n",
       "    </tr>\n",
       "    <tr>\n",
       "      <th>2023-08-21</th>\n",
       "      <td>Vendor4</td>\n",
       "      <td>75.08</td>\n",
       "      <td>92</td>\n",
       "      <td>Customer7</td>\n",
       "      <td>83.71</td>\n",
       "      <td>17</td>\n",
       "      <td>146.71</td>\n",
       "    </tr>\n",
       "    <tr>\n",
       "      <th>2023-08-21</th>\n",
       "      <td>Vendor7</td>\n",
       "      <td>83.93</td>\n",
       "      <td>16</td>\n",
       "      <td>Customer2</td>\n",
       "      <td>103.76</td>\n",
       "      <td>15</td>\n",
       "      <td>297.45</td>\n",
       "    </tr>\n",
       "  </tbody>\n",
       "</table>\n",
       "</div>"
      ],
      "text/plain": [
       "           Firm bought from  Buying price  Quantity bought   Customer  \\\n",
       "Date                                                                    \n",
       "2023-08-21          Vendor6         72.11               60  Customer7   \n",
       "2023-08-21          Vendor4         75.08               92  Customer7   \n",
       "2023-08-21          Vendor7         83.93               16  Customer2   \n",
       "\n",
       "            Selling price  Quantity sold  Gross Profit  \n",
       "Date                                                    \n",
       "2023-08-21          91.58             44        856.68  \n",
       "2023-08-21          83.71             17        146.71  \n",
       "2023-08-21         103.76             15        297.45  "
      ]
     },
     "execution_count": 36,
     "metadata": {},
     "output_type": "execute_result"
    }
   ],
   "source": [
    "sales_data_2.head(3)"
   ]
  },
  {
   "cell_type": "code",
   "execution_count": 29,
   "id": "11c7d202",
   "metadata": {},
   "outputs": [
    {
     "name": "stdout",
     "output_type": "stream",
     "text": [
      "<class 'pandas.core.frame.DataFrame'>\n",
      "RangeIndex: 70 entries, 0 to 69\n",
      "Data columns (total 7 columns):\n",
      " #   Column            Non-Null Count  Dtype  \n",
      "---  ------            --------------  -----  \n",
      " 0   Date              70 non-null     object \n",
      " 1   Firm bought from  70 non-null     object \n",
      " 2   Buying price      70 non-null     float64\n",
      " 3   Quantity bought   70 non-null     int64  \n",
      " 4   Customer          70 non-null     object \n",
      " 5   Selling price     70 non-null     float64\n",
      " 6   Quantity sold     70 non-null     int64  \n",
      "dtypes: float64(2), int64(2), object(3)\n",
      "memory usage: 4.0+ KB\n"
     ]
    }
   ],
   "source": [
    "sales_data_2.info()"
   ]
  },
  {
   "cell_type": "markdown",
   "id": "3f8f3411",
   "metadata": {},
   "source": [
    "### 6.Can you calculate a 3-day average of the daily gross profit from the sales_data_2.csv?"
   ]
  },
  {
   "cell_type": "code",
   "execution_count": 33,
   "id": "a4e419ad",
   "metadata": {},
   "outputs": [],
   "source": [
    "# Calculate the gross profit for each row\n",
    "sales_data_2[\"Gross Profit\"] = (sales_data_2[\"Selling price\"] - sales_data_2[\"Buying price\"]) * sales_data_2[\"Quantity sold\"]"
   ]
  },
  {
   "cell_type": "code",
   "execution_count": 30,
   "id": "abff2bc8",
   "metadata": {},
   "outputs": [],
   "source": [
    "# Set the 'Date' column as the index for time-based calculations\n",
    "sales_data_2.set_index(\"Date\", inplace=True)"
   ]
  },
  {
   "cell_type": "code",
   "execution_count": 37,
   "id": "f5aecc47",
   "metadata": {},
   "outputs": [],
   "source": [
    "# Group the data by day and calculate the daily gross profit sum\n",
    "daily_gross_profit = sales_data_2.groupby(\"Date\")[\"Gross Profit\"].sum()\n",
    "\n",
    "# Calculate the 3-day rolling average of daily gross profit\n",
    "three_day_avg_profit = daily_gross_profit.rolling(window=3).mean()"
   ]
  },
  {
   "cell_type": "code",
   "execution_count": 39,
   "id": "69e6727f",
   "metadata": {},
   "outputs": [
    {
     "name": "stdout",
     "output_type": "stream",
     "text": [
      "3-day average of the daily gross profit\n",
      "Date\n",
      "2023-08-21            NaN\n",
      "2023-08-22            NaN\n",
      "2023-08-23    4848.386667\n",
      "2023-08-24    4187.950000\n",
      "2023-08-25    4340.146667\n",
      "2023-08-26    4617.043333\n",
      "2023-08-27    4023.853333\n",
      "Name: Gross Profit, dtype: float64\n"
     ]
    }
   ],
   "source": [
    "# Print the results\n",
    "print(\"3-day average of the daily gross profit\")\n",
    "print(three_day_avg_profit)"
   ]
  },
  {
   "cell_type": "markdown",
   "id": "503a00d6",
   "metadata": {},
   "source": [
    "#### Inference:\n",
    "     1.The 3-day average of the daily gross profit are in the margin of 4000 to 5000\n",
    "\n",
    "     2.There's a peak in profit around August 26, followed by a dip.\n",
    "     \n",
    "     3.The gross profit has been increasing steadily from August 23 to August 26.\n"
   ]
  },
  {
   "cell_type": "markdown",
   "id": "485fc7dd",
   "metadata": {},
   "source": [
    "### 7. Additionally, provide insights into how this 3-day trend changes over the time period covered in the dataset."
   ]
  },
  {
   "cell_type": "code",
   "execution_count": 46,
   "id": "9afc6367",
   "metadata": {},
   "outputs": [
    {
     "data": {
      "image/png": "[encoded data removed]",
      "text/plain": [
       "<Figure size 864x432 with 1 Axes>"
      ]
     },
     "metadata": {
      "needs_background": "light"
     },
     "output_type": "display_data"
    }
   ],
   "source": [
    "# Create a more visually appealing plot with custom styling\n",
    "plt.figure(figsize=(12, 6))\n",
    "plt.plot(daily_gross_profit.index, daily_gross_profit.values, label=\"Daily Gross Profit\")\n",
    "plt.plot(three_day_avg_profit.index, three_day_avg_profit.values, label=\"3-Day Avg Gross Profit\", color='b', linewidth=2)\n",
    "plt.xlabel(\"Date\")\n",
    "plt.ylabel(\"3-Day Avg Gross Profit\")\n",
    "plt.title(\"3-Day Rolling Average of Gross Profit Over Time\", fontsize=14)\n",
    "plt.legend(fontsize=12)\n",
    "plt.grid(True, linestyle='--', alpha=0.6)\n",
    "plt.tight_layout()\n",
    "plt.tick_params(axis='both', which='major', labelsize=12)\n",
    "plt.show()\n"
   ]
  },
  {
   "cell_type": "markdown",
   "id": "1f2bcb26",
   "metadata": {},
   "source": [
    "### 8. Can you optimize the sales process to ensure gross margin is maximized?\n",
    "#### a. Would you fire any vendor?\n",
    "#### b. Would you let go of any customer?"
   ]
  },
  {
   "cell_type": "code",
   "execution_count": 89,
   "id": "a5040d5c",
   "metadata": {},
   "outputs": [
    {
     "data": {
      "text/html": [
       "<div>\n",
       "<style scoped>\n",
       "    .dataframe tbody tr th:only-of-type {\n",
       "        vertical-align: middle;\n",
       "    }\n",
       "\n",
       "    .dataframe tbody tr th {\n",
       "        vertical-align: top;\n",
       "    }\n",
       "\n",
       "    .dataframe thead th {\n",
       "        text-align: right;\n",
       "    }\n",
       "</style>\n",
       "<table border=\"1\" class=\"dataframe\">\n",
       "  <thead>\n",
       "    <tr style=\"text-align: right;\">\n",
       "      <th></th>\n",
       "      <th>Firm bought from</th>\n",
       "      <th>Quantity_Sold</th>\n",
       "      <th>Profit</th>\n",
       "      <th>Profit Margin %</th>\n",
       "    </tr>\n",
       "  </thead>\n",
       "  <tbody>\n",
       "    <tr>\n",
       "      <th>0</th>\n",
       "      <td>Vendor1</td>\n",
       "      <td>162</td>\n",
       "      <td>1555.59</td>\n",
       "      <td>6.232831</td>\n",
       "    </tr>\n",
       "    <tr>\n",
       "      <th>1</th>\n",
       "      <td>Vendor10</td>\n",
       "      <td>189</td>\n",
       "      <td>3040.62</td>\n",
       "      <td>9.208698</td>\n",
       "    </tr>\n",
       "    <tr>\n",
       "      <th>2</th>\n",
       "      <td>Vendor2</td>\n",
       "      <td>207</td>\n",
       "      <td>1296.98</td>\n",
       "      <td>1.852564</td>\n",
       "    </tr>\n",
       "    <tr>\n",
       "      <th>3</th>\n",
       "      <td>Vendor3</td>\n",
       "      <td>229</td>\n",
       "      <td>6370.67</td>\n",
       "      <td>10.331766</td>\n",
       "    </tr>\n",
       "    <tr>\n",
       "      <th>4</th>\n",
       "      <td>Vendor4</td>\n",
       "      <td>272</td>\n",
       "      <td>6903.31</td>\n",
       "      <td>9.312689</td>\n",
       "    </tr>\n",
       "    <tr>\n",
       "      <th>5</th>\n",
       "      <td>Vendor5</td>\n",
       "      <td>96</td>\n",
       "      <td>1616.14</td>\n",
       "      <td>3.062843</td>\n",
       "    </tr>\n",
       "    <tr>\n",
       "      <th>6</th>\n",
       "      <td>Vendor6</td>\n",
       "      <td>79</td>\n",
       "      <td>1217.95</td>\n",
       "      <td>8.019160</td>\n",
       "    </tr>\n",
       "    <tr>\n",
       "      <th>7</th>\n",
       "      <td>Vendor7</td>\n",
       "      <td>270</td>\n",
       "      <td>4961.05</td>\n",
       "      <td>4.706253</td>\n",
       "    </tr>\n",
       "    <tr>\n",
       "      <th>8</th>\n",
       "      <td>Vendor8</td>\n",
       "      <td>23</td>\n",
       "      <td>253.74</td>\n",
       "      <td>1.257384</td>\n",
       "    </tr>\n",
       "    <tr>\n",
       "      <th>9</th>\n",
       "      <td>Vendor9</td>\n",
       "      <td>170</td>\n",
       "      <td>4266.70</td>\n",
       "      <td>7.102998</td>\n",
       "    </tr>\n",
       "  </tbody>\n",
       "</table>\n",
       "</div>"
      ],
      "text/plain": [
       "  Firm bought from  Quantity_Sold   Profit  Profit Margin %\n",
       "0          Vendor1            162  1555.59         6.232831\n",
       "1         Vendor10            189  3040.62         9.208698\n",
       "2          Vendor2            207  1296.98         1.852564\n",
       "3          Vendor3            229  6370.67        10.331766\n",
       "4          Vendor4            272  6903.31         9.312689\n",
       "5          Vendor5             96  1616.14         3.062843\n",
       "6          Vendor6             79  1217.95         8.019160\n",
       "7          Vendor7            270  4961.05         4.706253\n",
       "8          Vendor8             23   253.74         1.257384\n",
       "9          Vendor9            170  4266.70         7.102998"
      ]
     },
     "execution_count": 89,
     "metadata": {},
     "output_type": "execute_result"
    }
   ],
   "source": [
    "vendor_summary = sales_data_2.groupby(\"Firm bought from\").agg(\n",
    "    Quantity_Sold=(\"Quantity sold\", \"sum\"),\n",
    "    Profit=(\"Gross Profit\", \"sum\"),\n",
    ")\n",
    "\n",
    "# Calculate profit margin as (Profit / Total Revenue) * 100\n",
    "vendor_summary[\"Profit Margin %\"] = (vendor_summary[\"Profit\"] / (sales_data_2.groupby(\"Firm bought from\")[\"Selling price\"].sum())) \n",
    "\n",
    "# Reset the index for a cleaner presentation\n",
    "vendor_summary.reset_index(inplace=True)\n",
    "vendor_summary"
   ]
  },
  {
   "cell_type": "markdown",
   "id": "d131430c",
   "metadata": {},
   "source": [
    "#### Inference:\n",
    "\n",
    "1. Would you fire any vendor?\n",
    "    - From the data it is clear that **Vendor 3 and Vendor 4** have the highest total profits, which might make them particularly valuable to the business.\n",
    "    - By calculating the Profit Margin, **Vendor2 and Vendor8** have relatively low profit margins (around 1.85% and 1.26%, respectively). In comparison, Vendor 8 has the lowest profit margin and the sum of quantity sold is also very less(23 products).\n",
    "    - It is also essential  to review their pricing or cost structures to improve profitability or consider if there are other strategic reasons to continue working with them else  it may be a reasonable decision to terminate the relationship with **Vendor 8.**\n",
    "    \n",
    "    \n",
    "2. Would you let go of any customer?\n",
    "    - A customer's value extends beyond a single transaction. Over time, a loyal customer can contribute significantly to your business's revenue and profitability through repeat purchases and increased spending.\n",
    "    - In addition to this, cutting off customer relationships may result in the loss of valuable insights.\n",
    "    - Provided we have information on the customers payment details, then we can eliminate those customers who consistently fail to pay on time or have a history of non-payment may strain the company's cash flow.\n",
    "    - So, it is important to understand that letting go of a customer is an important decision to make that could impact the business in the long run\n",
    "    - Thus, we can **continue forward without any termination of customers.**"
   ]
  },
  {
   "cell_type": "markdown",
   "id": "75770421",
   "metadata": {},
   "source": [
    "### 9. To ensure competitive pricing, Ram wants to benchmark their buying and selling prices against the market. Could you calculate the 25th, 50th (median), and 75th percentiles for both buying and selling prices?"
   ]
  },
  {
   "cell_type": "code",
   "execution_count": 90,
   "id": "4c14fe58",
   "metadata": {},
   "outputs": [],
   "source": [
    "# Calculate the 25th, 50th (median), and 75th percentiles for buying prices\n",
    "percentiles_buying = sales_data_2[\"Buying price\"].quantile([0.25, 0.5, 0.75])\n",
    "\n",
    "# Calculate the 25th, 50th (median), and 75th percentiles for selling prices\n",
    "percentiles_selling = sales_data_2[\"Selling price\"].quantile([0.25, 0.5, 0.75])\n"
   ]
  },
  {
   "cell_type": "code",
   "execution_count": 55,
   "id": "4576d984",
   "metadata": {},
   "outputs": [
    {
     "name": "stdout",
     "output_type": "stream",
     "text": [
      "Percentiles for Buying Prices:\n",
      "25th Percentile (Q1): 29.9\n",
      "Median (Q2): 60.76\n",
      "75th Percentile (Q3):78.320000\n",
      "\n",
      "Percentiles for Selling Prices:\n",
      "25th Percentile (Q1): 38.975\n",
      "Median (Q2):78.990000\n",
      "75th Percentile (Q3):103.397500\n"
     ]
    }
   ],
   "source": [
    "# Print the results\n",
    "print(\"Percentiles for Buying Prices:\")\n",
    "print(\"25th Percentile (Q1):\", percentiles_buying[0.25])\n",
    "print(\"Median (Q2):\", percentiles_buying[0.5])\n",
    "print(f\"75th Percentile (Q3):{percentiles_buying[0.75]:2f}\")\n",
    "print(\"\\nPercentiles for Selling Prices:\")\n",
    "print(\"25th Percentile (Q1):\", percentiles_selling[0.25])\n",
    "print(f\"Median (Q2):{percentiles_selling[0.5]:2f}\")\n",
    "print(f\"75th Percentile (Q3):{percentiles_selling[0.75]:2f}\")"
   ]
  },
  {
   "cell_type": "markdown",
   "id": "dfd0af7f",
   "metadata": {},
   "source": [
    "#### Ram's benchmark\n",
    "\n",
    "1. Buying Prices:\n",
    "    - 25% of the market's buying prices are below 29.9 suggesting that other businesses in the same industry have lower buying prices. So Ram can negotiate lower prices with its suppliers.\n",
    "    - Half of the businesses in the market are paying more than 60.76 for the same product or service\n",
    "    - 75% of the market's buying prices are below 78.32\n",
    "\n",
    "\n",
    "2. Selling prices:\n",
    "    - 25% of the market's selling prices are below 38.975\n",
    "    - 78.99, represents the middle point in the distribution of selling prices\n",
    "    - 75% of the market's selling prices are below 103.3975 suggesting that other businesses in the same industry have lower selling prices. Thus, business can raise its prices without losing sales."
   ]
  },
  {
   "cell_type": "markdown",
   "id": "dc8c4e7d",
   "metadata": {},
   "source": [
    "### 10. Additionally, analyze how often the Sapota’s prices fall below the 25th percentile or above the 75th percentile, potentially indicating they are buying at a high price or selling at a low price relative to their own transaction history.\n"
   ]
  },
  {
   "cell_type": "code",
   "execution_count": 65,
   "id": "64ff102f",
   "metadata": {},
   "outputs": [
    {
     "name": "stdout",
     "output_type": "stream",
     "text": [
      "Sapota's Buying Price Analysis:\n",
      "Frequency of Buying Price Below Q1: 18 times\n",
      "Frequency of Buying Price Above Q3: 18 times\n",
      "\n",
      "Sapota's Selling Price Analysis:\n",
      "Frequency of Selling Price Below Q1: 18 times\n",
      "Frequency of Selling Price Above Q3: 18 times\n"
     ]
    }
   ],
   "source": [
    "# Filter Sapota's data based on buying and selling prices\n",
    "sapota_buying_below_Q1 = sales_data_2[sales_data_2[\"Buying price\"] <= percentiles_buying[0.25]]\n",
    "sapota_buying_above_Q3 = sales_data_2[sales_data_2[\"Buying price\"] >= percentiles_buying[0.75]]\n",
    "sapota_selling_below_Q1 = sales_data_2[sales_data_2[\"Selling price\"] <= percentiles_selling[0.25]]\n",
    "sapota_selling_above_Q3 = sales_data_2[sales_data_2[\"Selling price\"] >= percentiles_selling[0.75]]\n",
    "\n",
    "# Calculate the frequency of falling below Q1 and above Q3 for buying and selling prices\n",
    "frequency_buying_below_Q1 = len(sapota_buying_below_Q1)\n",
    "frequency_buying_above_Q3 = len(sapota_buying_above_Q3)\n",
    "frequency_selling_below_Q1 = len(sapota_selling_below_Q1)\n",
    "frequency_selling_above_Q3 = len(sapota_selling_above_Q3)\n",
    "\n",
    "# Print the results\n",
    "print(\"Sapota's Buying Price Analysis:\")\n",
    "print(f\"Frequency of Buying Price Below Q1: {frequency_buying_below_Q1} times\")\n",
    "print(f\"Frequency of Buying Price Above Q3: {frequency_buying_above_Q3} times\")\n",
    "print()\n",
    "print(\"Sapota's Selling Price Analysis:\")\n",
    "print(f\"Frequency of Selling Price Below Q1: {frequency_selling_below_Q1} times\")\n",
    "print(f\"Frequency of Selling Price Above Q3: {frequency_selling_above_Q3} times\")"
   ]
  },
  {
   "cell_type": "markdown",
   "id": "88a59bac",
   "metadata": {},
   "source": [
    "### 11.Bharath says that Vendor 4 has to be honored. What impact does it have on your optimal gross margin?"
   ]
  },
  {
   "cell_type": "code",
   "execution_count": 85,
   "id": "c13d72c2",
   "metadata": {},
   "outputs": [],
   "source": [
    "vendor_summary = sales_data_2.groupby(\"Firm bought from\").agg(\n",
    "    Quantity_Sold=(\"Quantity sold\", \"sum\"),\n",
    "    Profit=(\"Gross Profit\", \"sum\"),\n",
    ")\n",
    "\n",
    "# Calculate profit margin as (Profit / Total Revenue) * 100\n",
    "vendor_summary[\"Profit Margin %\"] = (vendor_summary[\"Profit\"] / (sales_data_2.groupby(\"Firm bought from\")[\"Selling price\"].sum())) \n",
    "\n",
    "# Calculate each vendor's contribution in quantity sold as a percentage of the total quantity sold\n",
    "total_quantity_sold = sales_data_2[\"Quantity sold\"].sum()\n",
    "vendor_summary[\"Contribution in Quantity Sold (%)\"] = (vendor_summary[\"Quantity_Sold\"] / total_quantity_sold) * 100\n",
    "\n",
    "# Calculate each vendor's contribution in profit as a percentage of the total profit\n",
    "total_profit = vendor_summary[\"Profit\"].sum()\n",
    "vendor_summary[\"Contribution in Profit (%)\"] = (vendor_summary[\"Profit\"] / total_profit) * 100\n",
    "\n",
    "# Reset the index for a cleaner presentation\n",
    "vendor_summary.reset_index(inplace=True)"
   ]
  },
  {
   "cell_type": "code",
   "execution_count": 86,
   "id": "0ad76063",
   "metadata": {},
   "outputs": [
    {
     "data": {
      "text/html": [
       "<div>\n",
       "<style scoped>\n",
       "    .dataframe tbody tr th:only-of-type {\n",
       "        vertical-align: middle;\n",
       "    }\n",
       "\n",
       "    .dataframe tbody tr th {\n",
       "        vertical-align: top;\n",
       "    }\n",
       "\n",
       "    .dataframe thead th {\n",
       "        text-align: right;\n",
       "    }\n",
       "</style>\n",
       "<table border=\"1\" class=\"dataframe\">\n",
       "  <thead>\n",
       "    <tr style=\"text-align: right;\">\n",
       "      <th></th>\n",
       "      <th>Firm bought from</th>\n",
       "      <th>Quantity_Sold</th>\n",
       "      <th>Profit</th>\n",
       "      <th>Profit Margin %</th>\n",
       "      <th>Contribution in Quantity Sold (%)</th>\n",
       "      <th>Contribution in Profit (%)</th>\n",
       "    </tr>\n",
       "  </thead>\n",
       "  <tbody>\n",
       "    <tr>\n",
       "      <th>0</th>\n",
       "      <td>Vendor1</td>\n",
       "      <td>162</td>\n",
       "      <td>1555.59</td>\n",
       "      <td>6.232831</td>\n",
       "      <td>9.546258</td>\n",
       "      <td>4.941087</td>\n",
       "    </tr>\n",
       "    <tr>\n",
       "      <th>1</th>\n",
       "      <td>Vendor10</td>\n",
       "      <td>189</td>\n",
       "      <td>3040.62</td>\n",
       "      <td>9.208698</td>\n",
       "      <td>11.137301</td>\n",
       "      <td>9.658051</td>\n",
       "    </tr>\n",
       "    <tr>\n",
       "      <th>2</th>\n",
       "      <td>Vendor2</td>\n",
       "      <td>207</td>\n",
       "      <td>1296.98</td>\n",
       "      <td>1.852564</td>\n",
       "      <td>12.197996</td>\n",
       "      <td>4.119653</td>\n",
       "    </tr>\n",
       "    <tr>\n",
       "      <th>3</th>\n",
       "      <td>Vendor3</td>\n",
       "      <td>229</td>\n",
       "      <td>6370.67</td>\n",
       "      <td>10.331766</td>\n",
       "      <td>13.494402</td>\n",
       "      <td>20.235431</td>\n",
       "    </tr>\n",
       "    <tr>\n",
       "      <th>4</th>\n",
       "      <td>Vendor4</td>\n",
       "      <td>272</td>\n",
       "      <td>6903.31</td>\n",
       "      <td>9.312689</td>\n",
       "      <td>16.028285</td>\n",
       "      <td>21.927278</td>\n",
       "    </tr>\n",
       "    <tr>\n",
       "      <th>5</th>\n",
       "      <td>Vendor5</td>\n",
       "      <td>96</td>\n",
       "      <td>1616.14</td>\n",
       "      <td>3.062843</td>\n",
       "      <td>5.657042</td>\n",
       "      <td>5.133414</td>\n",
       "    </tr>\n",
       "    <tr>\n",
       "      <th>6</th>\n",
       "      <td>Vendor6</td>\n",
       "      <td>79</td>\n",
       "      <td>1217.95</td>\n",
       "      <td>8.019160</td>\n",
       "      <td>4.655274</td>\n",
       "      <td>3.868626</td>\n",
       "    </tr>\n",
       "    <tr>\n",
       "      <th>7</th>\n",
       "      <td>Vendor7</td>\n",
       "      <td>270</td>\n",
       "      <td>4961.05</td>\n",
       "      <td>4.706253</td>\n",
       "      <td>15.910430</td>\n",
       "      <td>15.757994</td>\n",
       "    </tr>\n",
       "    <tr>\n",
       "      <th>8</th>\n",
       "      <td>Vendor8</td>\n",
       "      <td>23</td>\n",
       "      <td>253.74</td>\n",
       "      <td>1.257384</td>\n",
       "      <td>1.355333</td>\n",
       "      <td>0.805965</td>\n",
       "    </tr>\n",
       "    <tr>\n",
       "      <th>9</th>\n",
       "      <td>Vendor9</td>\n",
       "      <td>170</td>\n",
       "      <td>4266.70</td>\n",
       "      <td>7.102998</td>\n",
       "      <td>10.017678</td>\n",
       "      <td>13.552501</td>\n",
       "    </tr>\n",
       "  </tbody>\n",
       "</table>\n",
       "</div>"
      ],
      "text/plain": [
       "  Firm bought from  Quantity_Sold   Profit  Profit Margin %  \\\n",
       "0          Vendor1            162  1555.59         6.232831   \n",
       "1         Vendor10            189  3040.62         9.208698   \n",
       "2          Vendor2            207  1296.98         1.852564   \n",
       "3          Vendor3            229  6370.67        10.331766   \n",
       "4          Vendor4            272  6903.31         9.312689   \n",
       "5          Vendor5             96  1616.14         3.062843   \n",
       "6          Vendor6             79  1217.95         8.019160   \n",
       "7          Vendor7            270  4961.05         4.706253   \n",
       "8          Vendor8             23   253.74         1.257384   \n",
       "9          Vendor9            170  4266.70         7.102998   \n",
       "\n",
       "   Contribution in Quantity Sold (%)  Contribution in Profit (%)  \n",
       "0                           9.546258                    4.941087  \n",
       "1                          11.137301                    9.658051  \n",
       "2                          12.197996                    4.119653  \n",
       "3                          13.494402                   20.235431  \n",
       "4                          16.028285                   21.927278  \n",
       "5                           5.657042                    5.133414  \n",
       "6                           4.655274                    3.868626  \n",
       "7                          15.910430                   15.757994  \n",
       "8                           1.355333                    0.805965  \n",
       "9                          10.017678                   13.552501  "
      ]
     },
     "execution_count": 86,
     "metadata": {},
     "output_type": "execute_result"
    }
   ],
   "source": [
    "vendor_summary"
   ]
  },
  {
   "cell_type": "markdown",
   "id": "752127cb",
   "metadata": {},
   "source": [
    "#### Reasons to honour Vendor 4:\n",
    "\n",
    "1. Vendor 4 has the maximum number of customers i.e. **8 customers**\n",
    "\n",
    "2. Maxiumum quantity sold is around **16%**\n",
    "\n",
    "3. Maximum profit margin is **22%**"
   ]
  },
  {
   "cell_type": "markdown",
   "id": "007f73ca",
   "metadata": {},
   "source": [
    "### 12. Which vendor should we have a strategic tie up so that we source only from them (the goal here is to have the highest gross margin)? What’s the theoretical max margin the firm could have from that branch?\n"
   ]
  },
  {
   "cell_type": "markdown",
   "id": "b81ffad3",
   "metadata": {},
   "source": [
    "From the above Vendor summary table,\n",
    "   - Vendor that should have a strategic tie up : **Vendor 3**\n",
    "\n",
    "   - Profit Margin: **10.33%**\n",
    "\n",
    "   - Total Profit: **Rs.6,370.67**\n",
    "\n",
    "#### Inference:\n",
    "\n",
    "High profit margin and a substantial total profit, indicating a strong contribution to gross margin. By considering a strategic tie-up with Vendor 3, you may be able to **secure favorable terms and exclusive deals** that maximize your gross margin.\n"
   ]
  },
  {
   "cell_type": "markdown",
   "id": "7128b93b",
   "metadata": {},
   "source": [
    "### 13. Given this is the ground truth, what is the price elasticity of Sapota for that branch? (If you increase by Rs.1, how much sales will go up/down and if you decrease price by Rs. 1, how much sales will go up/down)\n"
   ]
  },
  {
   "cell_type": "code",
   "execution_count": null,
   "id": "2b52c375",
   "metadata": {},
   "outputs": [],
   "source": [
    "vendor_summary = sales_data_2.groupby(\"Firm bought from\").agg(\n",
    "    Quantity_Sold=(\"Quantity sold\", \"sum\"),\n",
    "    Profit=(\"Gross Profit\", \"sum\"),\n",
    ")\n",
    "\n",
    "# Calculate profit margin as (Profit / Total Revenue) * 100\n",
    "vendor_summary[\"Profit Margin %\"] = (vendor_summary[\"Profit\"] / (sales_data_2.groupby(\"Firm bought from\")[\"Selling price\"].sum())) \n",
    "\n",
    "# Reset the index for a cleaner presentation\n",
    "vendor_summary.reset_index(inplace=True)\n",
    "vendor_summary"
   ]
  }
 ],
 "metadata": {
  "kernelspec": {
   "display_name": "Python 3 (ipykernel)",
   "language": "python",
   "name": "python3"
  },
  "language_info": {
   "codemirror_mode": {
    "name": "ipython",
    "version": 3
   },
   "file_extension": ".py",
   "mimetype": "text/x-python",
   "name": "python",
   "nbconvert_exporter": "python",
   "pygments_lexer": "ipython3",
   "version": "3.8.12"
  }
 },
 "nbformat": 4,
 "nbformat_minor": 5
}
